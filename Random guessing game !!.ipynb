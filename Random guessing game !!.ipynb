{
 "cells": [
  {
   "cell_type": "markdown",
   "id": "336533d4",
   "metadata": {},
   "source": [
    "# Random guessing game"
   ]
  },
  {
   "cell_type": "code",
   "execution_count": 1,
   "id": "bb7c4669",
   "metadata": {},
   "outputs": [],
   "source": [
    "import random"
   ]
  },
  {
   "cell_type": "code",
   "execution_count": null,
   "id": "9870eeb5",
   "metadata": {},
   "outputs": [],
   "source": [
    "top_of_range= input(\"Type a number : \")\n",
    "\n",
    "if top_of_range. isdigit():\n",
    "    top_of_range= int(top_of_range)\n",
    "    \n",
    "    if top_of_range <=0:\n",
    "        print(\"Please enter a number greater than 0 \")\n",
    "        quit()\n",
    "        \n",
    "else:\n",
    "    print(\"Enter a number next time\")\n",
    "    quit()\n",
    "    \n",
    "random_num = random.randint(0 , top_of_range) \n",
    "\n",
    "guesses=0\n",
    "\n",
    "\n",
    "while True:\n",
    "    \n",
    "    guesses+=1\n",
    "    user_guess= input(\"Please make a guess \")\n",
    "    if user_guess.isdigit():\n",
    "        user_guess= int(user_guess)\n",
    "    else:\n",
    "        print(\"Enter a number next time\")\n",
    "        continue\n",
    "        \n",
    "    if user_guess == random_num:\n",
    "        print(\"You got it right\")\n",
    "        break\n",
    "    \n",
    "    elif user_guess > random_num:\n",
    "        print(\"You were above the number\")\n",
    "    else:\n",
    "        print(\"You were below the number\")\n",
    "        \n",
    "print(\"You got it in \" , guesses , \"gusses\")    "
   ]
  },
  {
   "cell_type": "code",
   "execution_count": null,
   "id": "c69aa58c",
   "metadata": {},
   "outputs": [],
   "source": []
  },
  {
   "cell_type": "code",
   "execution_count": null,
   "id": "a76d6db9",
   "metadata": {},
   "outputs": [],
   "source": []
  },
  {
   "cell_type": "code",
   "execution_count": null,
   "id": "d956a295",
   "metadata": {},
   "outputs": [],
   "source": []
  }
 ],
 "metadata": {
  "kernelspec": {
   "display_name": "Python 3 (ipykernel)",
   "language": "python",
   "name": "python3"
  },
  "language_info": {
   "codemirror_mode": {
    "name": "ipython",
    "version": 3
   },
   "file_extension": ".py",
   "mimetype": "text/x-python",
   "name": "python",
   "nbconvert_exporter": "python",
   "pygments_lexer": "ipython3",
   "version": "3.9.13"
  }
 },
 "nbformat": 4,
 "nbformat_minor": 5
}
